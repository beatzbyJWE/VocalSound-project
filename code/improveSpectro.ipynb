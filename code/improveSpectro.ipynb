{
 "cells": [
  {
   "cell_type": "code",
   "execution_count": 1,
   "id": "5577acb3-8fb0-4d87-8e5b-9b6e8bb76e41",
   "metadata": {},
   "outputs": [],
   "source": [
    "import os\n",
    "import csv\n",
    "import json\n",
    "import pathlib\n",
    "\n",
    "import matplotlib.pyplot as plt\n",
    "import numpy as np\n",
    "import seaborn as sns\n",
    "import tensorflow as tf\n",
    "\n",
    "from tensorflow.keras import layers\n",
    "from tensorflow.keras import models\n",
    "from IPython import display"
   ]
  },
  {
   "cell_type": "code",
   "execution_count": 2,
   "id": "d39cf181-a5dd-48a6-89bb-ef1367b192b3",
   "metadata": {},
   "outputs": [],
   "source": [
    "import glob\n",
    "import librosa"
   ]
  },
  {
   "cell_type": "code",
   "execution_count": 3,
   "id": "9df8da8f-40bd-4d75-804a-b7baea1c0fc1",
   "metadata": {},
   "outputs": [
    {
     "name": "stdout",
     "output_type": "stream",
     "text": [
      "1 Physical GPUs, 1 Logical GPUs\n"
     ]
    },
    {
     "name": "stderr",
     "output_type": "stream",
     "text": [
      "2022-08-04 01:42:51.852958: I tensorflow/stream_executor/cuda/cuda_gpu_executor.cc:975] successful NUMA node read from SysFS had negative value (-1), but there must be at least one NUMA node, so returning NUMA node zero\n",
      "2022-08-04 01:42:51.858296: I tensorflow/stream_executor/cuda/cuda_gpu_executor.cc:975] successful NUMA node read from SysFS had negative value (-1), but there must be at least one NUMA node, so returning NUMA node zero\n",
      "2022-08-04 01:42:51.858612: I tensorflow/stream_executor/cuda/cuda_gpu_executor.cc:975] successful NUMA node read from SysFS had negative value (-1), but there must be at least one NUMA node, so returning NUMA node zero\n",
      "2022-08-04 01:42:51.859715: I tensorflow/core/platform/cpu_feature_guard.cc:193] This TensorFlow binary is optimized with oneAPI Deep Neural Network Library (oneDNN) to use the following CPU instructions in performance-critical operations:  AVX2 FMA\n",
      "To enable them in other operations, rebuild TensorFlow with the appropriate compiler flags.\n",
      "2022-08-04 01:42:51.860140: I tensorflow/stream_executor/cuda/cuda_gpu_executor.cc:975] successful NUMA node read from SysFS had negative value (-1), but there must be at least one NUMA node, so returning NUMA node zero\n",
      "2022-08-04 01:42:51.860374: I tensorflow/stream_executor/cuda/cuda_gpu_executor.cc:975] successful NUMA node read from SysFS had negative value (-1), but there must be at least one NUMA node, so returning NUMA node zero\n",
      "2022-08-04 01:42:51.860585: I tensorflow/stream_executor/cuda/cuda_gpu_executor.cc:975] successful NUMA node read from SysFS had negative value (-1), but there must be at least one NUMA node, so returning NUMA node zero\n",
      "2022-08-04 01:42:52.138313: I tensorflow/stream_executor/cuda/cuda_gpu_executor.cc:975] successful NUMA node read from SysFS had negative value (-1), but there must be at least one NUMA node, so returning NUMA node zero\n",
      "2022-08-04 01:42:52.138535: I tensorflow/stream_executor/cuda/cuda_gpu_executor.cc:975] successful NUMA node read from SysFS had negative value (-1), but there must be at least one NUMA node, so returning NUMA node zero\n",
      "2022-08-04 01:42:52.138713: I tensorflow/stream_executor/cuda/cuda_gpu_executor.cc:975] successful NUMA node read from SysFS had negative value (-1), but there must be at least one NUMA node, so returning NUMA node zero\n",
      "2022-08-04 01:42:52.138866: I tensorflow/core/common_runtime/gpu/gpu_device.cc:1532] Created device /job:localhost/replica:0/task:0/device:GPU:0 with 8192 MB memory:  -> device: 0, name: NVIDIA GeForce RTX 3080 Ti, pci bus id: 0000:08:00.0, compute capability: 8.6\n"
     ]
    }
   ],
   "source": [
    "gpus = tf.config.list_physical_devices('GPU')\n",
    "if gpus:\n",
    "  # Restrict TensorFlow to only allocate 1GB of memory on the first GPU\n",
    "  try:\n",
    "    tf.config.set_logical_device_configuration(\n",
    "        gpus[0],\n",
    "        [tf.config.LogicalDeviceConfiguration(memory_limit=1024*8)])\n",
    "    logical_gpus = tf.config.list_logical_devices('GPU')\n",
    "    print(len(gpus), \"Physical GPUs,\", len(logical_gpus), \"Logical GPUs\")\n",
    "  except RuntimeError as e:\n",
    "    # Virtual devices must be set before GPUs have been initialized\n",
    "    print(e)\n"
   ]
  },
  {
   "cell_type": "markdown",
   "id": "65fefebb-f30b-48d6-81ff-e2275c8650a9",
   "metadata": {},
   "source": [
    "### Read in data"
   ]
  },
  {
   "cell_type": "code",
   "execution_count": 4,
   "id": "11f2a6b4-7ebe-4be9-8283-f69dab6f14e5",
   "metadata": {},
   "outputs": [],
   "source": [
    "data_dir_path = '/home/jake/project/split'\n",
    "data_dir_path = pathlib.Path(data_dir_path)"
   ]
  },
  {
   "cell_type": "markdown",
   "id": "76a3753d-c182-4dc2-8d57-c6db4b8ef519",
   "metadata": {},
   "source": [
    "## New Spectro Method"
   ]
  },
  {
   "cell_type": "code",
   "execution_count": 5,
   "id": "6f9446f7-786a-4ada-85a3-d995462fb9ac",
   "metadata": {},
   "outputs": [],
   "source": [
    "sr = 22050 # sample rate\n",
    "file_format = \"wav\" # or wav, ...\n",
    "num_channels = 1 # mono\n",
    "n_fft = 2048 # number of fft length. 2**n\n",
    "win_length = 1000 # window length <= n_fft\n",
    "hop_length = 250 # hopping step\n",
    "n_mels = 80 # number of mels\n",
    "n_mfccs = 40 # number of mfccs\n",
    "preemp = .97 # preemphasis rate\n",
    "n_iter = 50 # Griffin-Lim's law"
   ]
  },
  {
   "cell_type": "code",
   "execution_count": null,
   "id": "7ce03015-bc34-4450-915e-29972f2f2d57",
   "metadata": {},
   "outputs": [],
   "source": []
  },
  {
   "cell_type": "code",
   "execution_count": null,
   "id": "338173a3-4be2-4a1d-80d0-622f9b98968b",
   "metadata": {},
   "outputs": [],
   "source": []
  },
  {
   "cell_type": "markdown",
   "id": "6c4e1e10-1c9b-4962-853e-abb6fb5920d7",
   "metadata": {},
   "source": [
    "## Original Spectro"
   ]
  },
  {
   "cell_type": "code",
   "execution_count": 75,
   "id": "5eabbf74-8fdc-44eb-ba1b-9ba94fefd5fe",
   "metadata": {},
   "outputs": [],
   "source": [
    "def get_spectrogram(waveform):\n",
    "  # Zero-padding for an audio waveform with less than 16,000 samples.\n",
    "  input_len = 16000\n",
    "  waveform = waveform[:input_len]\n",
    "  zero_padding = tf.zeros(\n",
    "      [16000] - tf.shape(waveform),\n",
    "      dtype=tf.float32)\n",
    "  # Cast the waveform tensors' dtype to float32.\n",
    "  waveform = tf.cast(waveform, dtype=tf.float32)\n",
    "  # Concatenate the waveform with `zero_padding`, which ensures all audio\n",
    "  # clips are of the same length.\n",
    "  equal_length = tf.concat([waveform, zero_padding], 0)\n",
    "  # Convert the waveform to a spectrogram via a STFT.\n",
    "  spectrogram = tf.signal.stft(\n",
    "      equal_length, frame_length=255, frame_step=128)\n",
    "  # Obtain the magnitude of the STFT.\n",
    "  spectrogram = tf.abs(spectrogram)\n",
    "  # Add a `channels` dimension, so that the spectrogram can be used\n",
    "  # as image-like input data with convolution layers (which expect\n",
    "  # shape (`batch_size`, `height`, `width`, `channels`).\n",
    "  spectrogram = spectrogram[..., tf.newaxis]\n",
    "  return spectrogram"
   ]
  },
  {
   "cell_type": "code",
   "execution_count": 52,
   "id": "7bd30e28-70ac-44f3-89aa-eec22ec69e42",
   "metadata": {},
   "outputs": [],
   "source": [
    "def decode_audio(audio_binary):\n",
    "  # Decode WAV-encoded audio files to `float32` tensors, normalized\n",
    "  # to the [-1.0, 1.0] range. Return `float32` audio and a sample rate.\n",
    "  audio, _ = tf.audio.decode_wav(contents=audio_binary)\n",
    "  # Since all the data is single channel (mono), drop the `channels`\n",
    "  # axis from the array.\n",
    "  return tf.squeeze(audio, axis=-1)"
   ]
  },
  {
   "cell_type": "code",
   "execution_count": 53,
   "id": "7f271a53-3294-462d-a29a-5d20ea2fa6d4",
   "metadata": {},
   "outputs": [],
   "source": [
    "def get_label(file_path):\n",
    "  # Convert the path to a list of path components\n",
    "  parts = tf.strings.split(file_path, os.path.sep)\n",
    "  # The second to last is the class-directory\n",
    "  one_hot = parts[-2] == class_names\n",
    "  # Integer encode the label\n",
    "  return tf.argmax(one_hot)\n"
   ]
  },
  {
   "cell_type": "code",
   "execution_count": 54,
   "id": "17b5f59f-3418-42d5-8846-e2d832d3ee14",
   "metadata": {},
   "outputs": [],
   "source": [
    "def process_path(file_path):\n",
    "    label = get_label(file_path)\n",
    "    audio_binary = tf.io.read_file(file_path)\n",
    "    waveform = decode_audio(audio_binary)\n",
    "    spectrogram = get_spectrogram(waveform)\n",
    "    return spectrogram, label"
   ]
  },
  {
   "cell_type": "code",
   "execution_count": 76,
   "id": "b4bbf9d3-05fb-4b5b-a2e4-d0cc9b363edb",
   "metadata": {
    "collapsed": true,
    "jupyter": {
     "outputs_hidden": true
    },
    "tags": []
   },
   "outputs": [
    {
     "ename": "InvalidArgumentError",
     "evalue": "ConcatOp : Dimension 1 in both shapes must be equal: shape[0] = [16000,1] vs. shape[1] = [0,15999] [Op:ConcatV2] name: concat",
     "output_type": "error",
     "traceback": [
      "\u001b[0;31m---------------------------------------------------------------------------\u001b[0m",
      "\u001b[0;31mInvalidArgumentError\u001b[0m                      Traceback (most recent call last)",
      "Input \u001b[0;32mIn [76]\u001b[0m, in \u001b[0;36m<cell line: 1>\u001b[0;34m()\u001b[0m\n\u001b[0;32m----> 1\u001b[0m \u001b[43mget_spectrogram\u001b[49m\u001b[43m(\u001b[49m\u001b[43mtest_audio\u001b[49m\u001b[43m)\u001b[49m\n",
      "Input \u001b[0;32mIn [75]\u001b[0m, in \u001b[0;36mget_spectrogram\u001b[0;34m(waveform)\u001b[0m\n\u001b[1;32m      9\u001b[0m waveform \u001b[38;5;241m=\u001b[39m tf\u001b[38;5;241m.\u001b[39mcast(waveform, dtype\u001b[38;5;241m=\u001b[39mtf\u001b[38;5;241m.\u001b[39mfloat32)\n\u001b[1;32m     10\u001b[0m \u001b[38;5;66;03m# Concatenate the waveform with `zero_padding`, which ensures all audio\u001b[39;00m\n\u001b[1;32m     11\u001b[0m \u001b[38;5;66;03m# clips are of the same length.\u001b[39;00m\n\u001b[0;32m---> 12\u001b[0m equal_length \u001b[38;5;241m=\u001b[39m \u001b[43mtf\u001b[49m\u001b[38;5;241;43m.\u001b[39;49m\u001b[43mconcat\u001b[49m\u001b[43m(\u001b[49m\u001b[43m[\u001b[49m\u001b[43mwaveform\u001b[49m\u001b[43m,\u001b[49m\u001b[43m \u001b[49m\u001b[43mzero_padding\u001b[49m\u001b[43m]\u001b[49m\u001b[43m,\u001b[49m\u001b[43m \u001b[49m\u001b[38;5;241;43m0\u001b[39;49m\u001b[43m)\u001b[49m\n\u001b[1;32m     13\u001b[0m \u001b[38;5;66;03m# Convert the waveform to a spectrogram via a STFT.\u001b[39;00m\n\u001b[1;32m     14\u001b[0m spectrogram \u001b[38;5;241m=\u001b[39m tf\u001b[38;5;241m.\u001b[39msignal\u001b[38;5;241m.\u001b[39mstft(\n\u001b[1;32m     15\u001b[0m     equal_length, frame_length\u001b[38;5;241m=\u001b[39m\u001b[38;5;241m255\u001b[39m, frame_step\u001b[38;5;241m=\u001b[39m\u001b[38;5;241m128\u001b[39m)\n",
      "File \u001b[0;32m~/anaconda3/envs/tf_latest/lib/python3.9/site-packages/tensorflow/python/util/traceback_utils.py:153\u001b[0m, in \u001b[0;36mfilter_traceback.<locals>.error_handler\u001b[0;34m(*args, **kwargs)\u001b[0m\n\u001b[1;32m    151\u001b[0m \u001b[38;5;28;01mexcept\u001b[39;00m \u001b[38;5;167;01mException\u001b[39;00m \u001b[38;5;28;01mas\u001b[39;00m e:\n\u001b[1;32m    152\u001b[0m   filtered_tb \u001b[38;5;241m=\u001b[39m _process_traceback_frames(e\u001b[38;5;241m.\u001b[39m__traceback__)\n\u001b[0;32m--> 153\u001b[0m   \u001b[38;5;28;01mraise\u001b[39;00m e\u001b[38;5;241m.\u001b[39mwith_traceback(filtered_tb) \u001b[38;5;28;01mfrom\u001b[39;00m \u001b[38;5;28mNone\u001b[39m\n\u001b[1;32m    154\u001b[0m \u001b[38;5;28;01mfinally\u001b[39;00m:\n\u001b[1;32m    155\u001b[0m   \u001b[38;5;28;01mdel\u001b[39;00m filtered_tb\n",
      "File \u001b[0;32m~/anaconda3/envs/tf_latest/lib/python3.9/site-packages/tensorflow/python/framework/ops.py:7164\u001b[0m, in \u001b[0;36mraise_from_not_ok_status\u001b[0;34m(e, name)\u001b[0m\n\u001b[1;32m   7162\u001b[0m \u001b[38;5;28;01mdef\u001b[39;00m \u001b[38;5;21mraise_from_not_ok_status\u001b[39m(e, name):\n\u001b[1;32m   7163\u001b[0m   e\u001b[38;5;241m.\u001b[39mmessage \u001b[38;5;241m+\u001b[39m\u001b[38;5;241m=\u001b[39m (\u001b[38;5;124m\"\u001b[39m\u001b[38;5;124m name: \u001b[39m\u001b[38;5;124m\"\u001b[39m \u001b[38;5;241m+\u001b[39m name \u001b[38;5;28;01mif\u001b[39;00m name \u001b[38;5;129;01mis\u001b[39;00m \u001b[38;5;129;01mnot\u001b[39;00m \u001b[38;5;28;01mNone\u001b[39;00m \u001b[38;5;28;01melse\u001b[39;00m \u001b[38;5;124m\"\u001b[39m\u001b[38;5;124m\"\u001b[39m)\n\u001b[0;32m-> 7164\u001b[0m   \u001b[38;5;28;01mraise\u001b[39;00m core\u001b[38;5;241m.\u001b[39m_status_to_exception(e) \u001b[38;5;28;01mfrom\u001b[39;00m \u001b[38;5;28mNone\u001b[39m\n",
      "\u001b[0;31mInvalidArgumentError\u001b[0m: ConcatOp : Dimension 1 in both shapes must be equal: shape[0] = [16000,1] vs. shape[1] = [0,15999] [Op:ConcatV2] name: concat"
     ]
    }
   ],
   "source": [
    "get_spectrogram(test_audio)"
   ]
  },
  {
   "cell_type": "code",
   "execution_count": null,
   "id": "81050804-635a-474a-a30c-656a24a15346",
   "metadata": {},
   "outputs": [],
   "source": [
    "######"
   ]
  },
  {
   "cell_type": "code",
   "execution_count": 6,
   "id": "608f66d2-e961-483f-b912-cb47b63bca00",
   "metadata": {},
   "outputs": [],
   "source": [
    "test_file = '/home/jake/project/split/val/sigh/f1961_0_sigh.wav'"
   ]
  },
  {
   "cell_type": "code",
   "execution_count": 8,
   "id": "66fa1794-a7ca-4655-8cde-8d9d88b51cf9",
   "metadata": {},
   "outputs": [
    {
     "data": {
      "text/plain": [
       "TensorShape([64171, 1])"
      ]
     },
     "execution_count": 8,
     "metadata": {},
     "output_type": "execute_result"
    }
   ],
   "source": [
    "test_file = tf.io.read_file('/home/jake/project/split/val/sigh/f1961_0_sigh.wav')\n",
    "test_audio, _ = tf.audio.decode_wav(contents=test_file)\n",
    "test_audio.shape"
   ]
  },
  {
   "cell_type": "code",
   "execution_count": 9,
   "id": "e84c1b4c-8d76-4acf-aacd-3c1760aa85b3",
   "metadata": {},
   "outputs": [],
   "source": [
    "test_audio = tf.squeeze(test_audio, axis=-1)"
   ]
  },
  {
   "cell_type": "code",
   "execution_count": 10,
   "id": "10ee83f7-061e-40cd-a296-890a27f24c0f",
   "metadata": {},
   "outputs": [],
   "source": [
    "# TF\n",
    "def preemphasize(y, rate=.97):\n",
    "    '''\n",
    "    y: 1-D tensor. Waveform.\n",
    "    rate: A python scalar.\n",
    "    '''\n",
    "    y = tf.concat((y[:1], y[1:]-rate*y[:-1]), -1)\n",
    "    return y\n",
    "\n",
    "test_audio = preemphasize(test_audio, preemp)"
   ]
  },
  {
   "cell_type": "code",
   "execution_count": 11,
   "id": "65dd3bc9-b7a7-41db-b955-e6726a6e079c",
   "metadata": {},
   "outputs": [
    {
     "name": "stderr",
     "output_type": "stream",
     "text": [
      "/tmp/ipykernel_74530/3382435735.py:7: FutureWarning: Pass sr=22050, n_fft=2048, n_mels=80 as keyword args. From version 0.10 passing these as positional arguments will result in an error\n",
      "  mel_basis = tf.convert_to_tensor(librosa.filters.mel(sr, n_fft, n_mels), tf.float32)\n",
      "2022-08-04 01:43:23.837034: E tensorflow/stream_executor/cuda/cuda_blas.cc:232] failed to create cublas handle: CUBLAS_STATUS_NOT_INITIALIZED\n",
      "2022-08-04 01:43:23.837049: E tensorflow/stream_executor/cuda/cuda_blas.cc:234] Failure to initialize cublas may be due to OOM (cublas needs some free memory when you initialize it, and your deep-learning framework may have preallocated more than its fair share), or may be because this binary was not built with support for the GPU in your machine.\n",
      "2022-08-04 01:43:23.837063: W tensorflow/core/framework/op_kernel.cc:1745] OP_REQUIRES failed at matmul_op_impl.h:438 : INTERNAL: Attempting to perform BLAS operation using StreamExecutor without BLAS support\n"
     ]
    },
    {
     "ename": "InternalError",
     "evalue": "Attempting to perform BLAS operation using StreamExecutor without BLAS support [Op:MatMul]",
     "output_type": "error",
     "traceback": [
      "\u001b[0;31m---------------------------------------------------------------------------\u001b[0m",
      "\u001b[0;31mInternalError\u001b[0m                             Traceback (most recent call last)",
      "Input \u001b[0;32mIn [11]\u001b[0m, in \u001b[0;36m<cell line: 13>\u001b[0;34m()\u001b[0m\n\u001b[1;32m     10\u001b[0m         mel \u001b[38;5;241m=\u001b[39m \u001b[38;5;28;01mNone\u001b[39;00m\n\u001b[1;32m     12\u001b[0m     \u001b[38;5;28;01mreturn\u001b[39;00m linear, mag, mel\n\u001b[0;32m---> 13\u001b[0m linear, mag, mel \u001b[38;5;241m=\u001b[39m \u001b[43mget_spectrograms\u001b[49m\u001b[43m(\u001b[49m\u001b[43mtest_audio\u001b[49m\u001b[43m,\u001b[49m\u001b[43m \u001b[49m\u001b[43msr\u001b[49m\u001b[43m,\u001b[49m\u001b[43m \u001b[49m\u001b[43mn_fft\u001b[49m\u001b[43m,\u001b[49m\u001b[43m \u001b[49m\u001b[43mwin_length\u001b[49m\u001b[43m,\u001b[49m\u001b[43m \u001b[49m\u001b[43mhop_length\u001b[49m\u001b[43m,\u001b[49m\u001b[43m \u001b[49m\u001b[43mn_mels\u001b[49m\u001b[43m)\u001b[49m\n\u001b[1;32m     14\u001b[0m \u001b[38;5;28mprint\u001b[39m(linear\u001b[38;5;241m.\u001b[39meval()\u001b[38;5;241m.\u001b[39mshape, mag\u001b[38;5;241m.\u001b[39meval()\u001b[38;5;241m.\u001b[39mshape, mel\u001b[38;5;241m.\u001b[39meval()\u001b[38;5;241m.\u001b[39mshape)\n",
      "Input \u001b[0;32mIn [11]\u001b[0m, in \u001b[0;36mget_spectrograms\u001b[0;34m(y, sr, n_fft, win_length, hop_length, n_mels, power)\u001b[0m\n\u001b[1;32m      6\u001b[0m \u001b[38;5;28;01mif\u001b[39;00m n_mels \u001b[38;5;129;01mis\u001b[39;00m \u001b[38;5;129;01mnot\u001b[39;00m \u001b[38;5;28;01mNone\u001b[39;00m:\n\u001b[1;32m      7\u001b[0m     mel_basis \u001b[38;5;241m=\u001b[39m tf\u001b[38;5;241m.\u001b[39mconvert_to_tensor(librosa\u001b[38;5;241m.\u001b[39mfilters\u001b[38;5;241m.\u001b[39mmel(sr, n_fft, n_mels), tf\u001b[38;5;241m.\u001b[39mfloat32)\n\u001b[0;32m----> 8\u001b[0m     mel \u001b[38;5;241m=\u001b[39m \u001b[43mtf\u001b[49m\u001b[38;5;241;43m.\u001b[39;49m\u001b[43mmatmul\u001b[49m\u001b[43m(\u001b[49m\u001b[43mmag\u001b[49m\u001b[38;5;241;43m*\u001b[39;49m\u001b[38;5;241;43m*\u001b[39;49m\u001b[43mpower\u001b[49m\u001b[43m,\u001b[49m\u001b[43m \u001b[49m\u001b[43mmel_basis\u001b[49m\u001b[43m,\u001b[49m\u001b[43m \u001b[49m\u001b[43mtranspose_b\u001b[49m\u001b[38;5;241;43m=\u001b[39;49m\u001b[38;5;28;43;01mTrue\u001b[39;49;00m\u001b[43m)\u001b[49m \u001b[38;5;66;03m# (t, n_mels)\u001b[39;00m\n\u001b[1;32m      9\u001b[0m \u001b[38;5;28;01melse\u001b[39;00m:\n\u001b[1;32m     10\u001b[0m     mel \u001b[38;5;241m=\u001b[39m \u001b[38;5;28;01mNone\u001b[39;00m\n",
      "File \u001b[0;32m~/anaconda3/envs/tf_latest/lib/python3.9/site-packages/tensorflow/python/util/traceback_utils.py:153\u001b[0m, in \u001b[0;36mfilter_traceback.<locals>.error_handler\u001b[0;34m(*args, **kwargs)\u001b[0m\n\u001b[1;32m    151\u001b[0m \u001b[38;5;28;01mexcept\u001b[39;00m \u001b[38;5;167;01mException\u001b[39;00m \u001b[38;5;28;01mas\u001b[39;00m e:\n\u001b[1;32m    152\u001b[0m   filtered_tb \u001b[38;5;241m=\u001b[39m _process_traceback_frames(e\u001b[38;5;241m.\u001b[39m__traceback__)\n\u001b[0;32m--> 153\u001b[0m   \u001b[38;5;28;01mraise\u001b[39;00m e\u001b[38;5;241m.\u001b[39mwith_traceback(filtered_tb) \u001b[38;5;28;01mfrom\u001b[39;00m \u001b[38;5;28mNone\u001b[39m\n\u001b[1;32m    154\u001b[0m \u001b[38;5;28;01mfinally\u001b[39;00m:\n\u001b[1;32m    155\u001b[0m   \u001b[38;5;28;01mdel\u001b[39;00m filtered_tb\n",
      "File \u001b[0;32m~/anaconda3/envs/tf_latest/lib/python3.9/site-packages/tensorflow/python/framework/ops.py:7164\u001b[0m, in \u001b[0;36mraise_from_not_ok_status\u001b[0;34m(e, name)\u001b[0m\n\u001b[1;32m   7162\u001b[0m \u001b[38;5;28;01mdef\u001b[39;00m \u001b[38;5;21mraise_from_not_ok_status\u001b[39m(e, name):\n\u001b[1;32m   7163\u001b[0m   e\u001b[38;5;241m.\u001b[39mmessage \u001b[38;5;241m+\u001b[39m\u001b[38;5;241m=\u001b[39m (\u001b[38;5;124m\"\u001b[39m\u001b[38;5;124m name: \u001b[39m\u001b[38;5;124m\"\u001b[39m \u001b[38;5;241m+\u001b[39m name \u001b[38;5;28;01mif\u001b[39;00m name \u001b[38;5;129;01mis\u001b[39;00m \u001b[38;5;129;01mnot\u001b[39;00m \u001b[38;5;28;01mNone\u001b[39;00m \u001b[38;5;28;01melse\u001b[39;00m \u001b[38;5;124m\"\u001b[39m\u001b[38;5;124m\"\u001b[39m)\n\u001b[0;32m-> 7164\u001b[0m   \u001b[38;5;28;01mraise\u001b[39;00m core\u001b[38;5;241m.\u001b[39m_status_to_exception(e) \u001b[38;5;28;01mfrom\u001b[39;00m \u001b[38;5;28mNone\u001b[39m\n",
      "\u001b[0;31mInternalError\u001b[0m: Attempting to perform BLAS operation using StreamExecutor without BLAS support [Op:MatMul]"
     ]
    }
   ],
   "source": [
    "# TF\n",
    "def get_spectrograms(y, sr=22050, n_fft=2048, win_length=2048, hop_length=512, n_mels=None, power=1):\n",
    "    linear = tf.signal.stft(y, frame_length=win_length, frame_step=hop_length, fft_length=n_fft) # linear spectrogram\n",
    "    mag = tf.abs(linear) # magnitude\n",
    "    \n",
    "    if n_mels is not None:\n",
    "        mel_basis = tf.convert_to_tensor(librosa.filters.mel(sr, n_fft, n_mels), tf.float32)\n",
    "        mel = tf.matmul(mag**power, mel_basis, transpose_b=True) # (t, n_mels)\n",
    "    else:\n",
    "        mel = None\n",
    "    \n",
    "    return linear, mag, mel\n",
    "linear, mag, mel = get_spectrograms(test_audio, sr, n_fft, win_length, hop_length, n_mels)\n",
    "print(linear.eval().shape, mag.eval().shape, mel.eval().shape)"
   ]
  },
  {
   "cell_type": "code",
   "execution_count": null,
   "id": "f63c6131-081a-4991-b39b-7e7d790d3a20",
   "metadata": {},
   "outputs": [],
   "source": []
  },
  {
   "cell_type": "code",
   "execution_count": null,
   "id": "01dca0d0-0a21-4bf4-bd69-36475b66c357",
   "metadata": {},
   "outputs": [],
   "source": []
  },
  {
   "cell_type": "code",
   "execution_count": null,
   "id": "d96992f1-5c7d-48ad-b76d-241498438984",
   "metadata": {},
   "outputs": [],
   "source": []
  },
  {
   "cell_type": "code",
   "execution_count": 56,
   "id": "753e8a88-e486-45c8-b94d-9b6968021edd",
   "metadata": {},
   "outputs": [],
   "source": [
    "######"
   ]
  },
  {
   "cell_type": "code",
   "execution_count": 57,
   "id": "69bf41ad-835a-435e-bc3d-59ca80a75f5c",
   "metadata": {},
   "outputs": [
    {
     "data": {
      "text/plain": [
       "PosixPath('/home/jake/project/split')"
      ]
     },
     "execution_count": 57,
     "metadata": {},
     "output_type": "execute_result"
    }
   ],
   "source": [
    "data_dir_path"
   ]
  },
  {
   "cell_type": "code",
   "execution_count": 58,
   "id": "fa23c59c-cbe9-48a8-baca-a7c77d60deee",
   "metadata": {},
   "outputs": [],
   "source": [
    "AUTOTUNE = tf.data.AUTOTUNE"
   ]
  },
  {
   "cell_type": "code",
   "execution_count": 59,
   "id": "6dc55907-7e3c-4df3-87b9-1a5cd45af441",
   "metadata": {},
   "outputs": [],
   "source": [
    "train_ds = tf.data.Dataset.list_files('/home/jake/project/split/train/*/*', shuffle=True)\n",
    "test_ds = tf.data.Dataset.list_files('/home/jake/project/split/test/*/*', shuffle=True)\n",
    "val_ds = tf.data.Dataset.list_files('/home/jake/project/split/val/*/*', shuffle=True)"
   ]
  },
  {
   "cell_type": "code",
   "execution_count": 60,
   "id": "a6d085d2-fcc5-42d8-8b21-02b83cb39bc1",
   "metadata": {},
   "outputs": [
    {
     "name": "stdout",
     "output_type": "stream",
     "text": [
      "b'/home/jake/project/split/val/sigh/f1961_0_sigh.wav'\n",
      "b'/home/jake/project/split/val/sniff/f0605_0_sniff.wav'\n",
      "b'/home/jake/project/split/val/sniff/m3289_0_sniff.wav'\n",
      "b'/home/jake/project/split/val/sigh/m0846_0_sigh.wav'\n",
      "b'/home/jake/project/split/val/cough/f0835_0_cough.wav'\n"
     ]
    }
   ],
   "source": [
    "for f in val_ds.take(5):\n",
    "  print(f.numpy())\n"
   ]
  },
  {
   "cell_type": "code",
   "execution_count": 61,
   "id": "598d241e-d97c-497b-84af-1b45a267a139",
   "metadata": {},
   "outputs": [],
   "source": [
    "train_path = pathlib.Path('/home/jake/project/split/train/')"
   ]
  },
  {
   "cell_type": "code",
   "execution_count": 62,
   "id": "576f00ad-4c66-4221-afb2-b49ce03db5dc",
   "metadata": {},
   "outputs": [
    {
     "name": "stdout",
     "output_type": "stream",
     "text": [
      "['cough' 'laughter' 'sigh' 'sneeze' 'sniff' 'throatclearing']\n"
     ]
    }
   ],
   "source": [
    "class_names = np.array(sorted([item.name for item in train_path.glob('*') if item.name != \"LICENSE.txt\"]))\n",
    "print(class_names)\n"
   ]
  },
  {
   "cell_type": "code",
   "execution_count": 63,
   "id": "02d1749f-a470-4b60-8e81-f48868501f18",
   "metadata": {},
   "outputs": [],
   "source": [
    "#######"
   ]
  },
  {
   "cell_type": "code",
   "execution_count": 64,
   "id": "89468985-b9a2-4493-958f-8ff8a856a589",
   "metadata": {},
   "outputs": [
    {
     "name": "stdout",
     "output_type": "stream",
     "text": [
      "(None, None)\n",
      "(None, None)\n",
      "(None, None)\n"
     ]
    }
   ],
   "source": [
    "train_ds = train_ds.map(process_path, num_parallel_calls=AUTOTUNE)\n",
    "test_ds = test_ds.map(process_path, num_parallel_calls=AUTOTUNE)\n",
    "val_ds = val_ds.map(process_path, num_parallel_calls=AUTOTUNE)\n"
   ]
  },
  {
   "cell_type": "code",
   "execution_count": 65,
   "id": "397b2b59-ec05-4b91-bf69-128cd4bff100",
   "metadata": {},
   "outputs": [
    {
     "name": "stdout",
     "output_type": "stream",
     "text": [
      "Train: 15531\n",
      "Test: 3591\n",
      "Validation: 1855\n"
     ]
    }
   ],
   "source": [
    "print(f'Train: {len(train_ds)}')\n",
    "print(f'Test: {len(test_ds)}')\n",
    "print(f'Validation: {len(val_ds)}') "
   ]
  },
  {
   "cell_type": "code",
   "execution_count": 66,
   "id": "66f50067-5df6-4052-b5d4-d62a9d9551d1",
   "metadata": {},
   "outputs": [
    {
     "name": "stdout",
     "output_type": "stream",
     "text": [
      "Image shape:  (38, 129, 1)\n",
      "Label:  4\n",
      "Image shape:  (38, 129, 1)\n",
      "Label:  0\n",
      "Image shape:  (38, 129, 1)\n",
      "Label:  0\n",
      "Image shape:  (38, 129, 1)\n",
      "Label:  3\n",
      "Image shape:  (38, 129, 1)\n",
      "Label:  5\n"
     ]
    }
   ],
   "source": [
    "for image, label in test_ds.take(5):\n",
    "    print(\"Image shape: \", image.numpy().shape)\n",
    "    print(\"Label: \", label.numpy())\n",
    "\n"
   ]
  },
  {
   "cell_type": "markdown",
   "id": "5e5556e4-21d3-4f9e-9a0e-7658d8d6ffce",
   "metadata": {},
   "source": [
    "### Process Data"
   ]
  },
  {
   "cell_type": "code",
   "execution_count": 67,
   "id": "a70e2f64-a5b7-4547-9896-134ba6a754b6",
   "metadata": {},
   "outputs": [],
   "source": [
    "batch_size = 32\n",
    "AUTOTUNE = tf.data.AUTOTUNE"
   ]
  },
  {
   "cell_type": "code",
   "execution_count": 68,
   "id": "c77ae205-1b53-4b23-a073-2744b741e019",
   "metadata": {},
   "outputs": [
    {
     "name": "stdout",
     "output_type": "stream",
     "text": [
      "Image shape:  (38, 129, 1)\n",
      "Label:  0\n"
     ]
    }
   ],
   "source": [
    "for image, label in train_ds.take(1):\n",
    "  print(\"Image shape: \", image.numpy().shape)\n",
    "  print(\"Label: \", label.numpy())\n"
   ]
  },
  {
   "cell_type": "code",
   "execution_count": 69,
   "id": "a6be46c7-5ba6-4b74-a957-ad82b1950388",
   "metadata": {},
   "outputs": [],
   "source": [
    "def configure_for_performance(ds):\n",
    "  ds = ds.cache()\n",
    "  ds = ds.shuffle(buffer_size=1000)\n",
    "  ds = ds.batch(batch_size)\n",
    "  ds = ds.prefetch(buffer_size=AUTOTUNE)\n",
    "  return ds\n",
    "\n",
    "train_ds = configure_for_performance(train_ds)\n",
    "val_ds = configure_for_performance(val_ds)\n"
   ]
  },
  {
   "cell_type": "markdown",
   "id": "9cf97348-93d4-48d5-8f07-559655444061",
   "metadata": {},
   "source": [
    "### Visualize Data"
   ]
  },
  {
   "cell_type": "code",
   "execution_count": 70,
   "id": "5d777c4c-9355-4522-938f-c1583362d6a3",
   "metadata": {},
   "outputs": [
    {
     "name": "stderr",
     "output_type": "stream",
     "text": [
      "2022-08-04 01:22:32.636993: W tensorflow/core/kernels/data/cache_dataset_ops.cc:856] The calling iterator did not fully read the dataset being cached. In order to avoid unexpected truncation of the dataset, the partially cached contents of the dataset  will be discarded. This can happen if you have an input pipeline similar to `dataset.cache().take(k).repeat()`. You should use `dataset.take(k).cache().repeat()` instead.\n"
     ]
    },
    {
     "data": {
      "image/png": "[encoded data removed]",
      "text/plain": [
       "<Figure size 720x720 with 9 Axes>"
      ]
     },
     "metadata": {
      "needs_background": "light"
     },
     "output_type": "display_data"
    }
   ],
   "source": [
    "image_batch, label_batch = next(iter(train_ds))\n",
    "\n",
    "plt.figure(figsize=(10, 10))\n",
    "for i in range(9):\n",
    "  ax = plt.subplot(3, 3, i + 1)\n",
    "  plt.imshow(image_batch[i].numpy().astype(\"uint8\"))\n",
    "  label = label_batch[i]\n",
    "  plt.title(class_names[label])\n",
    "  plt.axis(\"off\")\n"
   ]
  },
  {
   "cell_type": "code",
   "execution_count": 32,
   "id": "b32ca22c-d0d8-48d9-8003-0e9b213e8627",
   "metadata": {},
   "outputs": [
    {
     "name": "stdout",
     "output_type": "stream",
     "text": [
      "(32, 124, 129, 1)\n",
      "(32,)\n"
     ]
    }
   ],
   "source": [
    "print(image_batch.shape)\n",
    "print(label_batch.shape)\n",
    "\n"
   ]
  },
  {
   "cell_type": "markdown",
   "id": "6e1c5de7-1b57-423e-a27e-4b3ec1d22117",
   "metadata": {},
   "source": [
    "### Create Network"
   ]
  },
  {
   "cell_type": "code",
   "execution_count": 34,
   "id": "5af646c4-5c42-4042-b15a-cd3a557015c3",
   "metadata": {},
   "outputs": [],
   "source": [
    "normalization_layer = tf.keras.layers.Rescaling(1./255)"
   ]
  },
  {
   "cell_type": "code",
   "execution_count": 35,
   "id": "fb35e61c-4fec-4ea0-a80a-3dcfee2cfe88",
   "metadata": {},
   "outputs": [
    {
     "name": "stdout",
     "output_type": "stream",
     "text": [
      "6.8790045e-09 0.035768136\n"
     ]
    },
    {
     "name": "stderr",
     "output_type": "stream",
     "text": [
      "2022-08-04 01:01:12.796369: W tensorflow/core/kernels/data/cache_dataset_ops.cc:856] The calling iterator did not fully read the dataset being cached. In order to avoid unexpected truncation of the dataset, the partially cached contents of the dataset  will be discarded. This can happen if you have an input pipeline similar to `dataset.cache().take(k).repeat()`. You should use `dataset.take(k).cache().repeat()` instead.\n"
     ]
    }
   ],
   "source": [
    "normalized_ds = train_ds.map(lambda x, y: (normalization_layer(x), y))\n",
    "image_batch, labels_batch = next(iter(normalized_ds))\n",
    "first_image = image_batch[0]\n",
    "# Notice the pixel values are now in `[0,1]`.\n",
    "print(np.min(first_image), np.max(first_image))\n"
   ]
  },
  {
   "cell_type": "code",
   "execution_count": 36,
   "id": "c171496a-e641-4d63-833e-8f2bc718a5a6",
   "metadata": {},
   "outputs": [
    {
     "data": {
      "text/plain": [
       "TensorShape([124, 129, 1])"
      ]
     },
     "execution_count": 36,
     "metadata": {},
     "output_type": "execute_result"
    }
   ],
   "source": [
    "first_image.shape"
   ]
  },
  {
   "cell_type": "code",
   "execution_count": 37,
   "id": "741ab517-86c5-4905-9e15-0bc18d91c8eb",
   "metadata": {},
   "outputs": [
    {
     "data": {
      "text/plain": [
       "<matplotlib.image.AxesImage at 0x7f7067590ca0>"
      ]
     },
     "execution_count": 37,
     "metadata": {},
     "output_type": "execute_result"
    },
    {
     "data": {
      "image/png": "[encoded data removed]",
      "text/plain": [
       "<Figure size 432x288 with 1 Axes>"
      ]
     },
     "metadata": {
      "needs_background": "light"
     },
     "output_type": "display_data"
    }
   ],
   "source": [
    "plt.imshow(image.numpy().astype(\"uint8\"))"
   ]
  },
  {
   "cell_type": "code",
   "execution_count": 30,
   "id": "009b8404-008d-46c1-875f-5f2297378f70",
   "metadata": {},
   "outputs": [],
   "source": [
    "#AUTOTUNE = tf.data.AUTOTUNE\n",
    "\n",
    "#train_ds = train_ds.cache().prefetch(buffer_size=AUTOTUNE)\n",
    "#val_ds = val_ds.cache().prefetch(buffer_size=AUTOTUNE)\n"
   ]
  },
  {
   "cell_type": "markdown",
   "id": "84387f05-90f8-4f1c-b9fb-fa37508d36c6",
   "metadata": {},
   "source": [
    "num_classes = 6\n",
    "\n",
    "model = tf.keras.Sequential([\n",
    "  #tf.keras.Input(shape=(None,129,1)),\n",
    "  tf.keras.layers.Rescaling(1./255),\n",
    "  tf.keras.layers.Conv2D(32, 1, activation='relu'),\n",
    "  tf.keras.layers.MaxPooling2D(),\n",
    "  tf.keras.layers.Conv2D(32, 1, activation='relu'),\n",
    "  tf.keras.layers.MaxPooling2D(),\n",
    "  tf.keras.layers.Conv2D(32, 1, activation='relu'),\n",
    "  tf.keras.layers.MaxPooling2D(),\n",
    "  tf.keras.layers.Flatten(),\n",
    "  tf.keras.layers.Dense(128, activation='relu'),\n",
    "  tf.keras.layers.Dense(num_classes)\n",
    "])\n",
    "\n"
   ]
  },
  {
   "cell_type": "markdown",
   "id": "7ff0e081-a770-4a5f-8ab8-c9406a3f074c",
   "metadata": {},
   "source": [
    "model.compile(\n",
    "  optimizer='adam',\n",
    "  loss=tf.keras.losses.SparseCategoricalCrossentropy(from_logits=True),\n",
    "  metrics=['accuracy'])\n"
   ]
  },
  {
   "cell_type": "markdown",
   "id": "6004b9c3-c978-4aa5-9384-529cce4bc082",
   "metadata": {},
   "source": [
    "### Train Network"
   ]
  },
  {
   "cell_type": "code",
   "execution_count": 40,
   "id": "0d0d249e-4feb-48b8-aad2-5cb90c43d498",
   "metadata": {},
   "outputs": [],
   "source": [
    "model = tf.keras.Sequential()\n",
    "model.add(tf.keras.layers.Conv2D(32,(3,3), activation='relu', input_shape=(124,129,1)))\n",
    "model.add(tf.keras.layers.MaxPooling2D((2,2)))\n",
    "model.add(tf.keras.layers.Conv2D(64, (3,3), activation='relu'))\n",
    "model.add(tf.keras.layers.MaxPooling2D((2,2)))\n",
    "model.add(tf.keras.layers.Conv2D(64,(3,3), activation='relu'))"
   ]
  },
  {
   "cell_type": "code",
   "execution_count": 47,
   "id": "eee6f921-4296-4838-bb80-c9df9b07eb5a",
   "metadata": {},
   "outputs": [
    {
     "name": "stdout",
     "output_type": "stream",
     "text": [
      "Model: \"sequential\"\n",
      "_________________________________________________________________\n",
      " Layer (type)                Output Shape              Param #   \n",
      "=================================================================\n",
      " conv2d (Conv2D)             (None, 122, 127, 32)      320       \n",
      "                                                                 \n",
      " max_pooling2d (MaxPooling2D  (None, 61, 63, 32)       0         \n",
      " )                                                               \n",
      "                                                                 \n",
      " conv2d_1 (Conv2D)           (None, 59, 61, 64)        18496     \n",
      "                                                                 \n",
      " max_pooling2d_1 (MaxPooling  (None, 29, 30, 64)       0         \n",
      " 2D)                                                             \n",
      "                                                                 \n",
      " conv2d_2 (Conv2D)           (None, 27, 28, 64)        36928     \n",
      "                                                                 \n",
      " flatten (Flatten)           (None, 48384)             0         \n",
      "                                                                 \n",
      " dense (Dense)               (None, 64)                3096640   \n",
      "                                                                 \n",
      " dense_1 (Dense)             (None, 6)                 390       \n",
      "                                                                 \n",
      "=================================================================\n",
      "Total params: 3,152,774\n",
      "Trainable params: 3,152,774\n",
      "Non-trainable params: 0\n",
      "_________________________________________________________________\n",
      "None\n"
     ]
    }
   ],
   "source": [
    "print(model.summary())"
   ]
  },
  {
   "cell_type": "code",
   "execution_count": 46,
   "id": "a5f5c1ff-be39-4f6f-b318-8798e830452b",
   "metadata": {},
   "outputs": [],
   "source": [
    "model.add(tf.keras.layers.Flatten())\n",
    "model.add(tf.keras.layers.Dense(64,activation='relu'))\n",
    "model.add(tf.keras.layers.Dense(6,activation='softmax'))"
   ]
  },
  {
   "cell_type": "code",
   "execution_count": 48,
   "id": "8adf3adb-eee5-41c0-8500-fcf605389ce6",
   "metadata": {},
   "outputs": [],
   "source": [
    "model.compile(\n",
    "  optimizer='adam',\n",
    "  loss=tf.keras.losses.SparseCategoricalCrossentropy(from_logits=True),\n",
    "  metrics=['accuracy'])"
   ]
  },
  {
   "cell_type": "code",
   "execution_count": 50,
   "id": "734e2068-19f1-492e-964f-b8a7f4e6168b",
   "metadata": {},
   "outputs": [
    {
     "name": "stdout",
     "output_type": "stream",
     "text": [
      "Epoch 1/50\n",
      "486/486 [==============================] - 2s 5ms/step - loss: 0.9943 - accuracy: 0.5984 - val_loss: 1.5177 - val_accuracy: 0.4863\n",
      "Epoch 2/50\n",
      "486/486 [==============================] - 2s 5ms/step - loss: 0.8789 - accuracy: 0.6480 - val_loss: 1.7635 - val_accuracy: 0.4889\n",
      "Epoch 3/50\n",
      "486/486 [==============================] - 2s 5ms/step - loss: 0.7888 - accuracy: 0.6852 - val_loss: 1.9973 - val_accuracy: 0.4819\n",
      "Epoch 4/50\n",
      "486/486 [==============================] - 2s 5ms/step - loss: 0.7015 - accuracy: 0.7187 - val_loss: 2.2374 - val_accuracy: 0.4685\n",
      "Epoch 5/50\n",
      "486/486 [==============================] - 2s 5ms/step - loss: 0.6411 - accuracy: 0.7521 - val_loss: 2.6383 - val_accuracy: 0.4598\n",
      "Epoch 6/50\n",
      "486/486 [==============================] - 2s 5ms/step - loss: 0.5894 - accuracy: 0.7713 - val_loss: 2.7222 - val_accuracy: 0.4744\n",
      "Epoch 7/50\n",
      "486/486 [==============================] - 2s 5ms/step - loss: 0.5407 - accuracy: 0.7923 - val_loss: 3.2466 - val_accuracy: 0.4798\n",
      "Epoch 8/50\n",
      "486/486 [==============================] - 2s 5ms/step - loss: 0.4911 - accuracy: 0.8106 - val_loss: 3.6149 - val_accuracy: 0.4582\n",
      "Epoch 9/50\n",
      "486/486 [==============================] - 2s 5ms/step - loss: 0.4463 - accuracy: 0.8255 - val_loss: 3.8747 - val_accuracy: 0.4668\n",
      "Epoch 10/50\n",
      "486/486 [==============================] - 2s 5ms/step - loss: 0.4188 - accuracy: 0.8403 - val_loss: 3.7866 - val_accuracy: 0.4642\n",
      "Epoch 11/50\n",
      "486/486 [==============================] - 2s 5ms/step - loss: 0.3800 - accuracy: 0.8553 - val_loss: 4.3678 - val_accuracy: 0.4695\n",
      "Epoch 12/50\n",
      "486/486 [==============================] - 2s 5ms/step - loss: 0.3702 - accuracy: 0.8620 - val_loss: 4.1927 - val_accuracy: 0.4695\n",
      "Epoch 13/50\n",
      "486/486 [==============================] - 2s 5ms/step - loss: 0.3444 - accuracy: 0.8735 - val_loss: 4.9190 - val_accuracy: 0.4604\n",
      "Epoch 14/50\n",
      "486/486 [==============================] - 2s 5ms/step - loss: 0.3317 - accuracy: 0.8792 - val_loss: 5.5814 - val_accuracy: 0.4550\n",
      "Epoch 15/50\n",
      "486/486 [==============================] - 2s 5ms/step - loss: 0.3319 - accuracy: 0.8853 - val_loss: 5.3340 - val_accuracy: 0.4534\n",
      "Epoch 16/50\n",
      "486/486 [==============================] - 2s 5ms/step - loss: 0.2762 - accuracy: 0.8999 - val_loss: 5.4569 - val_accuracy: 0.4577\n",
      "Epoch 17/50\n",
      "486/486 [==============================] - 2s 5ms/step - loss: 0.2633 - accuracy: 0.9041 - val_loss: 5.2090 - val_accuracy: 0.4712\n",
      "Epoch 18/50\n",
      "486/486 [==============================] - 2s 5ms/step - loss: 0.2447 - accuracy: 0.9108 - val_loss: 6.6795 - val_accuracy: 0.4593\n",
      "Epoch 19/50\n",
      "486/486 [==============================] - 2s 5ms/step - loss: 0.2615 - accuracy: 0.9111 - val_loss: 6.3425 - val_accuracy: 0.4539\n",
      "Epoch 20/50\n",
      "486/486 [==============================] - 2s 5ms/step - loss: 0.2258 - accuracy: 0.9189 - val_loss: 6.7011 - val_accuracy: 0.4507\n",
      "Epoch 21/50\n",
      "486/486 [==============================] - 2s 5ms/step - loss: 0.2428 - accuracy: 0.9175 - val_loss: 7.1515 - val_accuracy: 0.4518\n",
      "Epoch 22/50\n",
      "486/486 [==============================] - 2s 5ms/step - loss: 0.2241 - accuracy: 0.9220 - val_loss: 7.4511 - val_accuracy: 0.4544\n",
      "Epoch 23/50\n",
      "486/486 [==============================] - 2s 5ms/step - loss: 0.2181 - accuracy: 0.9253 - val_loss: 7.0944 - val_accuracy: 0.4598\n",
      "Epoch 24/50\n",
      "486/486 [==============================] - 2s 5ms/step - loss: 0.1762 - accuracy: 0.9343 - val_loss: 7.8008 - val_accuracy: 0.4356\n",
      "Epoch 25/50\n",
      "486/486 [==============================] - 2s 5ms/step - loss: 0.1991 - accuracy: 0.9328 - val_loss: 7.0386 - val_accuracy: 0.4485\n",
      "Epoch 26/50\n",
      "486/486 [==============================] - 2s 5ms/step - loss: 0.1764 - accuracy: 0.9372 - val_loss: 7.9801 - val_accuracy: 0.4485\n",
      "Epoch 27/50\n",
      "486/486 [==============================] - 3s 5ms/step - loss: 0.1654 - accuracy: 0.9390 - val_loss: 8.6451 - val_accuracy: 0.4388\n",
      "Epoch 28/50\n",
      "486/486 [==============================] - 2s 5ms/step - loss: 0.2089 - accuracy: 0.9343 - val_loss: 7.6696 - val_accuracy: 0.4550\n",
      "Epoch 29/50\n",
      "486/486 [==============================] - 2s 5ms/step - loss: 0.1871 - accuracy: 0.9395 - val_loss: 8.4717 - val_accuracy: 0.4544\n",
      "Epoch 30/50\n",
      "486/486 [==============================] - 2s 5ms/step - loss: 0.1632 - accuracy: 0.9437 - val_loss: 7.8676 - val_accuracy: 0.4550\n",
      "Epoch 31/50\n",
      "486/486 [==============================] - 2s 5ms/step - loss: 0.1777 - accuracy: 0.9425 - val_loss: 6.6934 - val_accuracy: 0.4496\n",
      "Epoch 32/50\n",
      "486/486 [==============================] - 2s 5ms/step - loss: 0.1505 - accuracy: 0.9489 - val_loss: 8.3884 - val_accuracy: 0.4561\n",
      "Epoch 33/50\n",
      "486/486 [==============================] - 3s 5ms/step - loss: 0.1345 - accuracy: 0.9506 - val_loss: 8.9174 - val_accuracy: 0.4582\n",
      "Epoch 34/50\n",
      "486/486 [==============================] - 2s 5ms/step - loss: 0.1521 - accuracy: 0.9491 - val_loss: 7.9654 - val_accuracy: 0.4464\n",
      "Epoch 35/50\n",
      "486/486 [==============================] - 2s 5ms/step - loss: 0.1710 - accuracy: 0.9474 - val_loss: 9.3124 - val_accuracy: 0.4356\n",
      "Epoch 36/50\n",
      "486/486 [==============================] - 2s 5ms/step - loss: 0.1514 - accuracy: 0.9505 - val_loss: 9.6357 - val_accuracy: 0.4361\n",
      "Epoch 37/50\n",
      "486/486 [==============================] - 2s 5ms/step - loss: 0.1409 - accuracy: 0.9528 - val_loss: 9.5053 - val_accuracy: 0.4571\n",
      "Epoch 38/50\n",
      "486/486 [==============================] - 2s 5ms/step - loss: 0.1265 - accuracy: 0.9549 - val_loss: 9.1659 - val_accuracy: 0.4544\n",
      "Epoch 39/50\n",
      "486/486 [==============================] - 2s 5ms/step - loss: 0.1183 - accuracy: 0.9578 - val_loss: 9.2858 - val_accuracy: 0.4453\n",
      "Epoch 40/50\n",
      "486/486 [==============================] - 2s 5ms/step - loss: 0.1212 - accuracy: 0.9590 - val_loss: 9.9224 - val_accuracy: 0.4485\n",
      "Epoch 41/50\n",
      "486/486 [==============================] - 2s 5ms/step - loss: 0.1238 - accuracy: 0.9577 - val_loss: 10.4631 - val_accuracy: 0.4501\n",
      "Epoch 42/50\n",
      "486/486 [==============================] - 2s 5ms/step - loss: 0.1229 - accuracy: 0.9584 - val_loss: 9.5611 - val_accuracy: 0.4512\n",
      "Epoch 43/50\n",
      "486/486 [==============================] - 2s 5ms/step - loss: 0.1367 - accuracy: 0.9575 - val_loss: 9.1945 - val_accuracy: 0.4447\n",
      "Epoch 44/50\n",
      "486/486 [==============================] - 2s 5ms/step - loss: 0.1171 - accuracy: 0.9619 - val_loss: 10.9651 - val_accuracy: 0.4480\n",
      "Epoch 45/50\n",
      "486/486 [==============================] - 2s 5ms/step - loss: 0.0954 - accuracy: 0.9651 - val_loss: 9.9543 - val_accuracy: 0.4512\n",
      "Epoch 46/50\n",
      "486/486 [==============================] - 2s 5ms/step - loss: 0.1273 - accuracy: 0.9598 - val_loss: 11.3474 - val_accuracy: 0.4415\n",
      "Epoch 47/50\n",
      "486/486 [==============================] - 2s 5ms/step - loss: 0.1605 - accuracy: 0.9547 - val_loss: 9.9662 - val_accuracy: 0.4383\n",
      "Epoch 48/50\n",
      "486/486 [==============================] - 2s 5ms/step - loss: 0.1189 - accuracy: 0.9604 - val_loss: 12.4439 - val_accuracy: 0.4544\n",
      "Epoch 49/50\n",
      "486/486 [==============================] - 2s 5ms/step - loss: 0.1203 - accuracy: 0.9624 - val_loss: 11.2382 - val_accuracy: 0.4404\n",
      "Epoch 50/50\n",
      "486/486 [==============================] - 2s 5ms/step - loss: 0.1150 - accuracy: 0.9645 - val_loss: 10.8700 - val_accuracy: 0.4437\n"
     ]
    },
    {
     "data": {
      "text/plain": [
       "<keras.callbacks.History at 0x7f724870de20>"
      ]
     },
     "execution_count": 50,
     "metadata": {},
     "output_type": "execute_result"
    }
   ],
   "source": [
    "model.fit(\n",
    "  train_ds,\n",
    "  validation_data=val_ds,\n",
    "  epochs=50\n",
    ")\n"
   ]
  },
  {
   "cell_type": "markdown",
   "id": "baf3fd4a-c825-42c4-b0e9-cd81574549ae",
   "metadata": {},
   "source": [
    "### Validate Network"
   ]
  },
  {
   "cell_type": "code",
   "execution_count": null,
   "id": "5d9b7e7b-56d5-4616-9547-41adaa3763c3",
   "metadata": {},
   "outputs": [],
   "source": []
  }
 ],
 "metadata": {
  "kernelspec": {
   "display_name": "tf_latest",
   "language": "python",
   "name": "tf_latest"
  },
  "language_info": {
   "codemirror_mode": {
    "name": "ipython",
    "version": 3
   },
   "file_extension": ".py",
   "mimetype": "text/x-python",
   "name": "python",
   "nbconvert_exporter": "python",
   "pygments_lexer": "ipython3",
   "version": "3.9.12"
  }
 },
 "nbformat": 4,
 "nbformat_minor": 5
}
